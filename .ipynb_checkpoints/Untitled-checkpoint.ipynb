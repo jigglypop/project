{
 "cells": [
  {
   "cell_type": "code",
   "execution_count": null,
   "metadata": {},
   "outputs": [],
   "source": [
    "\n",
    "@edutak\n",
    "github\n",
    "https://github.com/dmswjd9501\n",
    "https://github.com/jr31112\n",
    "https://github.com/kimjy392\n",
    "https://github.com/EHwooKim\n",
    "https://github.com/banggeut01\n",
    "https://github.com/taesu-park\n",
    "https://github.com/sht3898\n",
    "https://github.com/sjy9412\n",
    "https://github.com/HyejinYang\n",
    "https://github.com/Yeon-yongheum\n",
    "https://github.com/yeomkyeorae\n",
    "https://github.com/jigglypop\n",
    "https://github.com/dodonmountain\n",
    "https://github.com/Ssong10\n",
    "https://github.com/JiminLee411\n",
    "https://github.com/EUNBI203\n",
    "https://github.com/JISU-JEONG\n",
    "https://github.com/ByeongjunCho\n",
    "https://github.com/milknsoda\n",
    "https://github.com/mooyeon-choi\n",
    "https://github.com/SSungCh\n",
    "https://github.com/ssshhh0402\n",
    "https://github.com/ubjhls\n",
    "\n"
   ]
  }
 ],
 "metadata": {
  "kernelspec": {
   "display_name": "Python 3",
   "language": "python",
   "name": "python3"
  },
  "language_info": {
   "codemirror_mode": {
    "name": "ipython",
    "version": 3
   },
   "file_extension": ".py",
   "mimetype": "text/x-python",
   "name": "python",
   "nbconvert_exporter": "python",
   "pygments_lexer": "ipython3",
   "version": "3.7.3"
  },
  "toc": {
   "base_numbering": 1,
   "nav_menu": {},
   "number_sections": true,
   "sideBar": true,
   "skip_h1_title": false,
   "title_cell": "Table of Contents",
   "title_sidebar": "Contents",
   "toc_cell": false,
   "toc_position": {},
   "toc_section_display": true,
   "toc_window_display": false
  }
 },
 "nbformat": 4,
 "nbformat_minor": 2
}
